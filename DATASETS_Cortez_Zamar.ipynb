{
  "nbformat": 4,
  "nbformat_minor": 0,
  "metadata": {
    "colab": {
      "provenance": []
    },
    "kernelspec": {
      "name": "python3",
      "display_name": "Python 3"
    },
    "language_info": {
      "name": "python"
    }
  },
  "cells": [
    {
      "cell_type": "code",
      "execution_count": null,
      "metadata": {
        "colab": {
          "base_uri": "https://localhost:8080/"
        },
        "id": "5sKw5OdqCcVo",
        "outputId": "3d4e5562-96db-47b6-fdba-fa439b580004"
      },
      "outputs": [
        {
          "output_type": "stream",
          "name": "stdout",
          "text": [
            "Mounted at /content/drive\n"
          ]
        }
      ],
      "source": [
        "from google.colab import drive\n",
        "drive.mount('/content/drive')"
      ]
    },
    {
      "cell_type": "markdown",
      "source": [
        "# DATASET FOR USED CARS\n",
        "\n",
        "**Data**\n",
        "\n",
        "COLUMN | DESCRIPTION | DATATYPE\n",
        "--- | --- | ---\n",
        "dateCrawled\t| Date the car was crawled. | Date\n",
        "name\t | Name of the car. | String\n",
        "seller\t | Type of seller (private or dealer). | String\n",
        "offerType\t | Type of offer (e.g. sale, repair, etc.). | String\n",
        "price\t | Price of the car. | Integer\n",
        "abtest\t | Test type (A or B). | String\n",
        "vehicleType\t | Type of vehicle (e.g. SUV, sedan, etc.). | String\n",
        "yearOfRegistration\t | Year the car was registered. | Integer\n",
        "gearbox\t | Type of gearbox (manual or automatic).|  String\n",
        "powerPS\t | Power of the car in PS. | Integer\n",
        "model\t | Model of the car. | String\n",
        "kilometer\t | Kilometers the car has been driven. | Integer\n",
        "monthOfRegistration\t | Month the car was registered. | Integer\n",
        "fuelType\t | Type of fuel (e.g. diesel, petrol, etc.). | String\n",
        "brand\t | Brand of the car. | String\n",
        "notRepairedDamage\t | Whether or not the car has any damage that has not been repaired. | String\n",
        "dateCreated\t | Date the car was created. | Date\n",
        "nrOfPictures\t | Number of pictures of the car. | Integer\n",
        "postalCode\t | Postal code of the car. | Integer\n",
        "lastSeen\t | Date the car was last seen. | Date\n",
        "\n",
        "**Objective** \n",
        "\n",
        "* Determine if the price of the car is good to be able to sell it.\n",
        "\n",
        "**Key columns**\n",
        "\n",
        "* Price\n",
        "* offerType\n",
        "* vehicleType\n",
        "* gearbox\n",
        "* model \n",
        "* kilometer\n",
        "* fuelType\n",
        "* brand\n",
        "* notRepairedDamage\n",
        "* nrOfPictures\n",
        "* postalCode"
      ],
      "metadata": {
        "id": "comcMvyjdCJZ"
      }
    },
    {
      "cell_type": "code",
      "source": [
        "import pandas as pd\n",
        "\n",
        "df = pd.read_csv('/content/autos.csv')\n",
        "df"
      ],
      "metadata": {
        "id": "P_B_HvO0dtX9"
      },
      "execution_count": null,
      "outputs": []
    },
    {
      "cell_type": "markdown",
      "source": [
        "# DATASET POR HOTEL RESERVATION\n",
        "\n",
        "\n",
        "**Data**\n",
        "\n",
        "COLUMN | DESCRIPTION | DATATYPE\n",
        "--- | --- | ---\n",
        "Booking_ID | Unique identifier of each booking | String\n",
        "no_of_adults | Number of adults | Integer\n",
        "no_of_children | Number of Children | Integer\n",
        "no_of_weekend_nights | Number of weekend nights (Saturday or Sunday) the guest stayed or booked to stay at the hotel | Integer\n",
        "no_of_week_nights | Number of week nights (Monday to Friday) the guest stayed or booked to stay at the hotel | Integer\n",
        "type_of_meal_plan | Type of meal plan booked by the customer | String\n",
        "required_car_parking_space | Does the customer require a car parking space? (0 - No, 1- Yes) | Integer\n",
        "room_type_reserved | Type of room reserved by the customer. The values are ciphered (encoded) by INN Hotels. | String\n",
        "lead_time | Number of days between the date of booking and the arrival date | Integer\n",
        "arrival_year | Year of arrival date | Integer\n",
        "arrival_month | Month of arrival date | Integer\n",
        "arrival_date | Date of the month | Integer\n",
        "market_segment_type | Market segment designation. | String\n",
        "repeated_guest | Is the customer a repeated guest? (0 - No, 1- Yes) | Integer\n",
        "no_of_previous_cancellations | Number of previous bookings that were canceled by the customer prior to the current booking | Integer\n",
        "no_of_previous_bookings_not_canceled | Number of previous bookings not canceled by the customer prior to the current booking | Integer\n",
        "avg_price_per_room | Average price per day of the reservation; prices of the rooms are dynamic. (in euros) | Decimal\n",
        "no_of_special_requests | Total number of special requests made by the customer (e.g. high floor, view from the room, etc) | Integer\n",
        "booking_status | Flag indicating if the booking was canceled or not. |  String\n",
        "\n",
        "**Objective** \n",
        "\n",
        "* Predict if a pending reservation will be cancelled or not.\n",
        "\n",
        "**Key columns**\n",
        "\n",
        "* no_of_adults\n",
        "* no_of_children\n",
        "* no_of_week_nights\n",
        "* no_of_weekend_nights \n",
        "* room_type_reserved\n",
        "* lead_time\n",
        "* arrival_month\n",
        "* arrival_date\n",
        "* repeated_guest\n",
        "* avg_price_per_room\n",
        "* no_of_special_requests"
      ],
      "metadata": {
        "id": "ZId1RHLYdWIv"
      }
    },
    {
      "cell_type": "code",
      "source": [
        "import pandas as pd\n",
        "\n",
        "df = pd.read_csv('/content/Hotel Reservations.csv')\n",
        "df"
      ],
      "metadata": {
        "id": "PI7cRKrqDdwC"
      },
      "execution_count": null,
      "outputs": []
    },
    {
      "cell_type": "markdown",
      "source": [
        "# DATASET FOR SUPERSTOR MARKETING CAMPAIGN\n",
        "\n",
        "\n",
        "**Data**\n",
        "\n",
        "COLUMN | DESCRIPTION | DATATYPE \n",
        "--- | --- | ---\n",
        "ID | Unique ID of each customer | Integer\n",
        "Year_Birth | Age of the customer | Integer\n",
        "Complain | 1 if the customer complained in the last 2 years | String\n",
        "Dt_Customer | date of customer's enrollment with the company | DateTime\n",
        "Education | customer's level of education |  String\n",
        "Marital | customer's marital status |  String\n",
        "Kidhome | number of small children in customer's household | Integer\n",
        "Teenhome | number of teenagers in customer's household | Integer\n",
        "Income | customer's yearly household income | Decimal\n",
        "MntFishProducts | the amount spent on fish products in the last 2 years | Integer\n",
        "MntMeatProducts | the amount spent on meat products in the last 2 years | Integer\n",
        "MntFruits | the amount spent on fruits products in the last 2 years | Integer\n",
        "MntSweetProducts | amount spent on sweet products in the last 2 years | Integer\n",
        "MntWines | the amount spent on wine products in the last 2 years | Integer\n",
        "MntGoldProds | the amount spent on gold products in the last 2 years | Integer\n",
        "NumDealsPurchases | number of purchases made with discount | Integer\n",
        "NumCatalogPurchases | number of purchases made using catalog (buying goods to be shipped through the mail) | Integer\n",
        "NumStorePurchases | number of purchases made directly in stores | Integer\n",
        "NumWebPurchases | number of purchases made through the company's website | Integer\n",
        "NumWebVisitsMonth | number of visits to company's website in the last month | Integer\n",
        "Recency | number of days since the last purchase | Integer\n",
        "\n",
        "**Objective** \n",
        "\n",
        "* Predict if a customer will give a positive respondes to marketing campaing\n",
        "\n",
        "**Key columns**\n",
        "\n",
        "* Year_Birth\n",
        "* Education\n",
        "* Marital\n",
        "* Kidhome \n",
        "* Teenhome\n",
        "* Income\n",
        "* MntFishProducts\t \n",
        "* MntMeatProducts\t \n",
        "* MntFruits\t\n",
        "* MntSweetProducts\t \n",
        "* MntWines\t \n",
        "* MntGoldProds\t \n",
        "* NumDealsPurchases\t \n",
        "* NumCatalogPurchases \n",
        "* NumStorePurchases\t \n",
        "* NumWebPurchases\t \n",
        "* NumWebVisitsMonth\t \n",
        "* Recency"
      ],
      "metadata": {
        "id": "DUE80SWWd5u3"
      }
    },
    {
      "cell_type": "code",
      "source": [
        "import pandas as pd\n",
        "\n",
        "df = pd.read_csv('/content/superstore_data.csv')\n",
        "df"
      ],
      "metadata": {
        "id": "kY8Og5ZCd9nR"
      },
      "execution_count": null,
      "outputs": []
    }
  ]
}